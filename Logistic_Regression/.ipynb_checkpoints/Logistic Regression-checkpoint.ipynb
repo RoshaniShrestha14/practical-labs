{
 "cells": [
  {
   "cell_type": "code",
   "execution_count": 28,
   "id": "8e8d2db8",
   "metadata": {},
   "outputs": [],
   "source": [
    "# LIbraries for logistic regression for binary classification\n",
    "import pandas as pd\n",
    "import numpy as np\n",
    "from sklearn.linear_model import LogisticRegression\n",
    "from sklearn.metrics import accuracy_score, precision_score, recall_score, f1_score, confusion_matrix\n",
    "from sklearn.model_selection import train_test_split"
   ]
  },
  {
   "cell_type": "code",
   "execution_count": 29,
   "id": "639227a1",
   "metadata": {},
   "outputs": [
    {
     "data": {
      "text/html": [
       "<div>\n",
       "<style scoped>\n",
       "    .dataframe tbody tr th:only-of-type {\n",
       "        vertical-align: middle;\n",
       "    }\n",
       "\n",
       "    .dataframe tbody tr th {\n",
       "        vertical-align: top;\n",
       "    }\n",
       "\n",
       "    .dataframe thead th {\n",
       "        text-align: right;\n",
       "    }\n",
       "</style>\n",
       "<table border=\"1\" class=\"dataframe\">\n",
       "  <thead>\n",
       "    <tr style=\"text-align: right;\">\n",
       "      <th></th>\n",
       "      <th>age</th>\n",
       "      <th>years_experience</th>\n",
       "      <th>salary_greater_then_average</th>\n",
       "    </tr>\n",
       "  </thead>\n",
       "  <tbody>\n",
       "    <tr>\n",
       "      <th>0</th>\n",
       "      <td>32.0</td>\n",
       "      <td>5.0</td>\n",
       "      <td>0</td>\n",
       "    </tr>\n",
       "    <tr>\n",
       "      <th>1</th>\n",
       "      <td>28.0</td>\n",
       "      <td>3.0</td>\n",
       "      <td>0</td>\n",
       "    </tr>\n",
       "    <tr>\n",
       "      <th>2</th>\n",
       "      <td>45.0</td>\n",
       "      <td>15.0</td>\n",
       "      <td>1</td>\n",
       "    </tr>\n",
       "    <tr>\n",
       "      <th>3</th>\n",
       "      <td>36.0</td>\n",
       "      <td>7.0</td>\n",
       "      <td>0</td>\n",
       "    </tr>\n",
       "    <tr>\n",
       "      <th>4</th>\n",
       "      <td>52.0</td>\n",
       "      <td>20.0</td>\n",
       "      <td>1</td>\n",
       "    </tr>\n",
       "  </tbody>\n",
       "</table>\n",
       "</div>"
      ],
      "text/plain": [
       "    age  years_experience  salary_greater_then_average\n",
       "0  32.0               5.0                            0\n",
       "1  28.0               3.0                            0\n",
       "2  45.0              15.0                            1\n",
       "3  36.0               7.0                            0\n",
       "4  52.0              20.0                            1"
      ]
     },
     "execution_count": 29,
     "metadata": {},
     "output_type": "execute_result"
    }
   ],
   "source": [
    "df = pd.read_csv(\"salary_data.csv\")\n",
    "df.head()\n",
    "\n",
    "#deleting the column \n",
    "df=df.drop(columns=[\"salary\"])\n",
    "df.head()\n",
    "\n",
    "\n"
   ]
  },
  {
   "cell_type": "code",
   "execution_count": 30,
   "id": "086910c7",
   "metadata": {},
   "outputs": [],
   "source": [
    "\n",
    "#x bhanya hamiley predict kelley garni ho bhanney\n",
    "X = df[['age', 'years_experience']]\n",
    "y= df.salary_greater_then_average"
   ]
  },
  {
   "cell_type": "code",
   "execution_count": 31,
   "id": "6c16c52e",
   "metadata": {},
   "outputs": [
    {
     "name": "stdout",
     "output_type": "stream",
     "text": [
      "298 75 298 75\n"
     ]
    }
   ],
   "source": [
    "#Train Test Split \n",
    "X_train, X_test, y_train, y_test = train_test_split(X, y, train_size= 0.80, random_state= 123)\n",
    "print(len(X_train), len(X_test), len(y_train), len(y_test))"
   ]
  },
  {
   "cell_type": "code",
   "execution_count": 32,
   "id": "170b1f85",
   "metadata": {},
   "outputs": [
    {
     "name": "stdout",
     "output_type": "stream",
     "text": [
      "0.8533333333333334\n"
     ]
    }
   ],
   "source": [
    "#Modeling \n",
    "model=LogisticRegression()\n",
    "model.fit(X_train, y_train)\n",
    "print((model.score(X_test, y_test)))"
   ]
  },
  {
   "cell_type": "code",
   "execution_count": 33,
   "id": "07b17f80",
   "metadata": {},
   "outputs": [
    {
     "name": "stdout",
     "output_type": "stream",
     "text": [
      "[0 1 0 1 1] 150    0\n",
      "354    1\n",
      "54     0\n",
      "102    1\n",
      "320    1\n",
      "Name: salary_greater_then_average, dtype: int64\n"
     ]
    }
   ],
   "source": [
    "#Predicting\n",
    "y_pred= model.predict(X_test)\n",
    "print(y_pred[0:5], y_test[0:5])"
   ]
  },
  {
   "cell_type": "code",
   "execution_count": 34,
   "id": "f8bce2c6",
   "metadata": {},
   "outputs": [
    {
     "data": {
      "text/plain": [
       "array([[35,  7],\n",
       "       [ 4, 29]], dtype=int64)"
      ]
     },
     "execution_count": 34,
     "metadata": {},
     "output_type": "execute_result"
    }
   ],
   "source": [
    "#Evaluating\n",
    "cm= confusion_matrix(y_test, y_pred)\n",
    "cm"
   ]
  },
  {
   "cell_type": "code",
   "execution_count": 39,
   "id": "7a4b7ec2",
   "metadata": {},
   "outputs": [],
   "source": [
    "import seaborn as sns\n",
    "import matplotlib.pyplot as plt"
   ]
  },
  {
   "cell_type": "code",
   "execution_count": 44,
   "id": "bce6894a",
   "metadata": {},
   "outputs": [
    {
     "data": {
      "image/png": "[encoded data removed]",
      "text/plain": [
       "<Figure size 640x480 with 2 Axes>"
      ]
     },
     "metadata": {},
     "output_type": "display_data"
    }
   ],
   "source": [
    "sns.heatmap(cm, annot=True)\n",
    "plt.title(\"Predicted\")\n",
    "plt.ylabel(\"Actual\")\n",
    "#plt.xlabel(\"Actual Values\")\n",
    "#plt.ylabel(\"predicted values\")\n",
    "plt.show()"
   ]
  },
  {
   "cell_type": "code",
   "execution_count": 46,
   "id": "2525e4ec",
   "metadata": {},
   "outputs": [
    {
     "name": "stdout",
     "output_type": "stream",
     "text": [
      "(0.8533333333333334, 0.8055555555555556, 0.8787878787878788, 0.8405797101449276)\n"
     ]
    }
   ],
   "source": [
    "acc =accuracy_score(y_test, y_pred)\n",
    "pre =precision_score(y_test, y_pred)\n",
    "rec =recall_score(y_test, y_pred)\n",
    "f1 =f1_score(y_test, y_pred)\n",
    "print((acc, pre, rec, f1))"
   ]
  },
  {
   "cell_type": "code",
   "execution_count": null,
   "id": "33ac21d3",
   "metadata": {},
   "outputs": [],
   "source": []
  }
 ],
 "metadata": {
  "kernelspec": {
   "display_name": "Python 3 (ipykernel)",
   "language": "python",
   "name": "python3"
  },
  "language_info": {
   "codemirror_mode": {
    "name": "ipython",
    "version": 3
   },
   "file_extension": ".py",
   "mimetype": "text/x-python",
   "name": "python",
   "nbconvert_exporter": "python",
   "pygments_lexer": "ipython3",
   "version": "3.11.4"
  }
 },
 "nbformat": 4,
 "nbformat_minor": 5
}
